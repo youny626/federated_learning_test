{
 "cells": [
  {
   "cell_type": "code",
   "execution_count": 1,
   "metadata": {
    "pycharm": {
     "name": "#%%\n"
    }
   },
   "outputs": [
    {
     "name": "stderr",
     "output_type": "stream",
     "text": [
      "/Users/zhiruzhu/Desktop/data_station/fl_test/venv/lib/python3.8/site-packages/tqdm/auto.py:22: TqdmWarning: IProgress not found. Please update jupyter and ipywidgets. See https://ipywidgets.readthedocs.io/en/stable/user_install.html\n",
      "  from .autonotebook import tqdm as notebook_tqdm\n"
     ]
    }
   ],
   "source": [
    "import openfl.native as fx\n",
    "from openfl.federated import FederatedModel, FederatedDataSet\n",
    "\n",
    "import pandas as pd\n",
    "import numpy as np\n",
    "import torch\n",
    "import torch.nn.functional as F"
   ]
  },
  {
   "cell_type": "code",
   "execution_count": 2,
   "metadata": {
    "pycharm": {
     "name": "#%%\n"
    }
   },
   "outputs": [
    {
     "name": "stdout",
     "output_type": "stream",
     "text": [
      "Creating Workspace Directories\n",
      "Creating Workspace Templates\n",
      "Requirement already satisfied: torch==1.8.1 in /Users/zhiruzhu/Desktop/data_station/fl_test/venv/lib/python3.8/site-packages (from -r /Users/zhiruzhu/.local/workspace/requirements.txt (line 1)) (1.8.1)\n",
      "Requirement already satisfied: torchvision==0.9.1 in /Users/zhiruzhu/Desktop/data_station/fl_test/venv/lib/python3.8/site-packages (from -r /Users/zhiruzhu/.local/workspace/requirements.txt (line 2)) (0.9.1)\n",
      "Requirement already satisfied: tensorboard in /Users/zhiruzhu/Desktop/data_station/fl_test/venv/lib/python3.8/site-packages (from -r /Users/zhiruzhu/.local/workspace/requirements.txt (line 3)) (2.9.0)\n",
      "Requirement already satisfied: typing-extensions in /Users/zhiruzhu/Desktop/data_station/fl_test/venv/lib/python3.8/site-packages (from torch==1.8.1->-r /Users/zhiruzhu/.local/workspace/requirements.txt (line 1)) (3.10.0.2)\n",
      "Requirement already satisfied: numpy in /Users/zhiruzhu/Desktop/data_station/fl_test/venv/lib/python3.8/site-packages (from torch==1.8.1->-r /Users/zhiruzhu/.local/workspace/requirements.txt (line 1)) (1.22.3)\n",
      "Requirement already satisfied: pillow>=4.1.1 in /Users/zhiruzhu/Desktop/data_station/fl_test/venv/lib/python3.8/site-packages (from torchvision==0.9.1->-r /Users/zhiruzhu/.local/workspace/requirements.txt (line 2)) (9.1.0)\n",
      "Requirement already satisfied: google-auth-oauthlib<0.5,>=0.4.1 in /Users/zhiruzhu/Desktop/data_station/fl_test/venv/lib/python3.8/site-packages (from tensorboard->-r /Users/zhiruzhu/.local/workspace/requirements.txt (line 3)) (0.4.6)\n",
      "Requirement already satisfied: protobuf>=3.9.2 in /Users/zhiruzhu/Desktop/data_station/fl_test/venv/lib/python3.8/site-packages (from tensorboard->-r /Users/zhiruzhu/.local/workspace/requirements.txt (line 3)) (3.20.1)\n",
      "Requirement already satisfied: requests<3,>=2.21.0 in /Users/zhiruzhu/Desktop/data_station/fl_test/venv/lib/python3.8/site-packages (from tensorboard->-r /Users/zhiruzhu/.local/workspace/requirements.txt (line 3)) (2.27.1)\n",
      "Requirement already satisfied: tensorboard-data-server<0.7.0,>=0.6.0 in /Users/zhiruzhu/Desktop/data_station/fl_test/venv/lib/python3.8/site-packages (from tensorboard->-r /Users/zhiruzhu/.local/workspace/requirements.txt (line 3)) (0.6.1)\n",
      "Requirement already satisfied: wheel>=0.26 in /Users/zhiruzhu/Desktop/data_station/fl_test/venv/lib/python3.8/site-packages (from tensorboard->-r /Users/zhiruzhu/.local/workspace/requirements.txt (line 3)) (0.37.1)\n",
      "Requirement already satisfied: markdown>=2.6.8 in /Users/zhiruzhu/Desktop/data_station/fl_test/venv/lib/python3.8/site-packages (from tensorboard->-r /Users/zhiruzhu/.local/workspace/requirements.txt (line 3)) (3.3.7)\n",
      "Requirement already satisfied: setuptools>=41.0.0 in /Users/zhiruzhu/Desktop/data_station/fl_test/venv/lib/python3.8/site-packages (from tensorboard->-r /Users/zhiruzhu/.local/workspace/requirements.txt (line 3)) (60.2.0)\n",
      "Requirement already satisfied: absl-py>=0.4 in /Users/zhiruzhu/Desktop/data_station/fl_test/venv/lib/python3.8/site-packages (from tensorboard->-r /Users/zhiruzhu/.local/workspace/requirements.txt (line 3)) (1.0.0)\n",
      "Requirement already satisfied: werkzeug>=1.0.1 in /Users/zhiruzhu/Desktop/data_station/fl_test/venv/lib/python3.8/site-packages (from tensorboard->-r /Users/zhiruzhu/.local/workspace/requirements.txt (line 3)) (2.1.2)\n",
      "Requirement already satisfied: tensorboard-plugin-wit>=1.6.0 in /Users/zhiruzhu/Desktop/data_station/fl_test/venv/lib/python3.8/site-packages (from tensorboard->-r /Users/zhiruzhu/.local/workspace/requirements.txt (line 3)) (1.8.1)\n",
      "Requirement already satisfied: google-auth<3,>=1.6.3 in /Users/zhiruzhu/Desktop/data_station/fl_test/venv/lib/python3.8/site-packages (from tensorboard->-r /Users/zhiruzhu/.local/workspace/requirements.txt (line 3)) (2.6.6)\n",
      "Requirement already satisfied: grpcio>=1.24.3 in /Users/zhiruzhu/Desktop/data_station/fl_test/venv/lib/python3.8/site-packages (from tensorboard->-r /Users/zhiruzhu/.local/workspace/requirements.txt (line 3)) (1.34.1)\n",
      "Requirement already satisfied: six in /Users/zhiruzhu/Desktop/data_station/fl_test/venv/lib/python3.8/site-packages (from absl-py>=0.4->tensorboard->-r /Users/zhiruzhu/.local/workspace/requirements.txt (line 3)) (1.16.0)\n",
      "Requirement already satisfied: rsa<5,>=3.1.4 in /Users/zhiruzhu/Desktop/data_station/fl_test/venv/lib/python3.8/site-packages (from google-auth<3,>=1.6.3->tensorboard->-r /Users/zhiruzhu/.local/workspace/requirements.txt (line 3)) (4.8)\n",
      "Requirement already satisfied: cachetools<6.0,>=2.0.0 in /Users/zhiruzhu/Desktop/data_station/fl_test/venv/lib/python3.8/site-packages (from google-auth<3,>=1.6.3->tensorboard->-r /Users/zhiruzhu/.local/workspace/requirements.txt (line 3)) (5.0.0)\n",
      "Requirement already satisfied: pyasn1-modules>=0.2.1 in /Users/zhiruzhu/Desktop/data_station/fl_test/venv/lib/python3.8/site-packages (from google-auth<3,>=1.6.3->tensorboard->-r /Users/zhiruzhu/.local/workspace/requirements.txt (line 3)) (0.2.8)\n",
      "Requirement already satisfied: requests-oauthlib>=0.7.0 in /Users/zhiruzhu/Desktop/data_station/fl_test/venv/lib/python3.8/site-packages (from google-auth-oauthlib<0.5,>=0.4.1->tensorboard->-r /Users/zhiruzhu/.local/workspace/requirements.txt (line 3)) (1.3.1)\n",
      "Requirement already satisfied: importlib-metadata>=4.4 in /Users/zhiruzhu/Desktop/data_station/fl_test/venv/lib/python3.8/site-packages (from markdown>=2.6.8->tensorboard->-r /Users/zhiruzhu/.local/workspace/requirements.txt (line 3)) (4.11.3)\n",
      "Requirement already satisfied: charset-normalizer~=2.0.0 in /Users/zhiruzhu/Desktop/data_station/fl_test/venv/lib/python3.8/site-packages (from requests<3,>=2.21.0->tensorboard->-r /Users/zhiruzhu/.local/workspace/requirements.txt (line 3)) (2.0.12)\n",
      "Requirement already satisfied: certifi>=2017.4.17 in /Users/zhiruzhu/Desktop/data_station/fl_test/venv/lib/python3.8/site-packages (from requests<3,>=2.21.0->tensorboard->-r /Users/zhiruzhu/.local/workspace/requirements.txt (line 3)) (2021.10.8)\n",
      "Requirement already satisfied: urllib3<1.27,>=1.21.1 in /Users/zhiruzhu/Desktop/data_station/fl_test/venv/lib/python3.8/site-packages (from requests<3,>=2.21.0->tensorboard->-r /Users/zhiruzhu/.local/workspace/requirements.txt (line 3)) (1.26.9)\n",
      "Requirement already satisfied: idna<4,>=2.5 in /Users/zhiruzhu/Desktop/data_station/fl_test/venv/lib/python3.8/site-packages (from requests<3,>=2.21.0->tensorboard->-r /Users/zhiruzhu/.local/workspace/requirements.txt (line 3)) (3.3)\n",
      "Requirement already satisfied: zipp>=0.5 in /Users/zhiruzhu/Desktop/data_station/fl_test/venv/lib/python3.8/site-packages (from importlib-metadata>=4.4->markdown>=2.6.8->tensorboard->-r /Users/zhiruzhu/.local/workspace/requirements.txt (line 3)) (3.8.0)\n",
      "Requirement already satisfied: pyasn1<0.5.0,>=0.4.6 in /Users/zhiruzhu/Desktop/data_station/fl_test/venv/lib/python3.8/site-packages (from pyasn1-modules>=0.2.1->google-auth<3,>=1.6.3->tensorboard->-r /Users/zhiruzhu/.local/workspace/requirements.txt (line 3)) (0.4.8)\n",
      "Requirement already satisfied: oauthlib>=3.0.0 in /Users/zhiruzhu/Desktop/data_station/fl_test/venv/lib/python3.8/site-packages (from requests-oauthlib>=0.7.0->google-auth-oauthlib<0.5,>=0.4.1->tensorboard->-r /Users/zhiruzhu/.local/workspace/requirements.txt (line 3)) (3.2.0)\n",
      "Successfully installed packages from /Users/zhiruzhu/.local/workspace/requirements.txt.\n"
     ]
    },
    {
     "name": "stderr",
     "output_type": "stream",
     "text": [
      "WARNING: You are using pip version 21.3.1; however, version 22.0.4 is available.\n",
      "You should consider upgrading via the '/Users/zhiruzhu/Desktop/data_station/fl_test/venv/bin/python -m pip install --upgrade pip' command.\n"
     ]
    },
    {
     "name": "stdout",
     "output_type": "stream",
     "text": [
      "\n",
      "New workspace directory structure:\n",
      "workspace\n",
      "├── final_pytorch_model\n",
      "├── spam_metric.log\n",
      "├── requirements.txt\n",
      "├── .workspace\n",
      "├── plan\n",
      "│   ├── plan.yaml\n",
      "│   ├── cols.yaml\n",
      "│   ├── defaults\n",
      "│   └── data.yaml\n",
      "├── logs\n",
      "│   ├── cnn_mnist\n",
      "│   │   └── events.out.tfevents.1651982305.MacBook-Pro-2.local.38935.0\n",
      "│   └── cifar_openfl.log\n",
      "├── cert\n",
      "├── agg_to_col_one_signed_cert.zip\n",
      "├── save\n",
      "│   ├── torch_cnn_mnist_best.pbuf\n",
      "│   ├── torch_cnn_mnist_init.pbuf\n",
      "│   └── torch_cnn_mnist_last.pbuf\n",
      "├── data\n",
      "│   ├── MNIST\n",
      "│   │   ├── processed\n",
      "│   │   └── raw\n",
      "│   ├── cifar-10-batches-py\n",
      "│   │   ├── data_batch_1\n",
      "│   │   ├── readme.html\n",
      "│   │   ├── batches.meta\n",
      "│   │   ├── data_batch_2\n",
      "│   │   ├── data_batch_5\n",
      "│   │   ├── test_batch\n",
      "│   │   ├── data_batch_4\n",
      "│   │   └── data_batch_3\n",
      "│   └── cifar-10-python.tar.gz\n",
      "├── agg_to_col_two_signed_cert.zip\n",
      "└── src\n",
      "    ├── mnist_utils.py\n",
      "    ├── __init__.py\n",
      "    ├── ptmnist_inmemory.py\n",
      "    └── pt_cnn.py\n",
      "\n",
      "11 directories, 28 files\n",
      "Setting Up Certificate Authority...\n",
      "\n",
      "1.  Create Root CA\n",
      "1.1 Create Directories\n",
      "1.2 Create Database\n",
      "1.3 Create CA Request and Certificate\n",
      "2.  Create Signing Certificate\n",
      "2.1 Create Directories\n",
      "2.2 Create Database\n",
      "2.3 Create Signing Certificate CSR\n",
      "2.4 Sign Signing Certificate CSR\n",
      "3   Create Certificate Chain\n",
      "\n",
      "Done.\n",
      "Creating AGGREGATOR certificate key pair with following settings: CN=\u001B[31m1.0.0.0.0.0.0.0.0.0.0.0.0.0.0.0.0.0.0.0.0.0.0.0.0.0.0.0.0.0.0.0.ip6.arpa\u001B[0m, SAN=\u001B[31mDNS:1.0.0.0.0.0.0.0.0.0.0.0.0.0.0.0.0.0.0.0.0.0.0.0.0.0.0.0.0.0.0.0.ip6.arpa\u001B[0m\n",
      "  Writing AGGREGATOR certificate key pair to: \u001B[32m/Users/zhiruzhu/Desktop/data_station/fl_test/income/cert/server\u001B[0m\n",
      "The CSR Hash for file \u001B[32mserver/agg_1.0.0.0.0.0.0.0.0.0.0.0.0.0.0.0.0.0.0.0.0.0.0.0.0.0.0.0.0.0.0.0.ip6.arpa.csr\u001B[0m = \u001B[31m293105356410e8709ec20776b310d6af98c57f98a3b976ed1c72fb5063bf226875280ff78178120020f30c427d7a8c0c\u001B[0m\n",
      " Signing AGGREGATOR certificate\n",
      "Creating COLLABORATOR certificate key pair with following settings: CN=\u001B[31mone\u001B[0m, SAN=\u001B[31mDNS:one\u001B[0m\n",
      "  Moving COLLABORATOR certificate to: \u001B[32m/Users/zhiruzhu/Desktop/data_station/fl_test/income/cert/col_one\u001B[0m\n",
      "The CSR Hash for file \u001B[32mcol_one.csr\u001B[0m = \u001B[31m11d23a483614104dcbe82faeaa33a36488e209600e952218223bc14fd20893739eeca9034927c340c3639bdac89ded1e\u001B[0m\n",
      " Signing COLLABORATOR certificate\n",
      "\n",
      "Registering \u001B[32mone\u001B[0m in \u001B[32m/Users/zhiruzhu/.local/workspace/plan/cols.yaml\u001B[0m\n",
      "Creating COLLABORATOR certificate key pair with following settings: CN=\u001B[31mtwo\u001B[0m, SAN=\u001B[31mDNS:two\u001B[0m\n",
      "  Moving COLLABORATOR certificate to: \u001B[32m/Users/zhiruzhu/Desktop/data_station/fl_test/income/cert/col_two\u001B[0m\n",
      "The CSR Hash for file \u001B[32mcol_two.csr\u001B[0m = \u001B[31m7616827adc22624c40094d795ee78ba3462c82016bbf1db9527fc07c96c44eaca7c3630bc911193b5c41df5df910e921\u001B[0m\n",
      " Signing COLLABORATOR certificate\n",
      "\n",
      "Registering \u001B[32mtwo\u001B[0m in \u001B[32m/Users/zhiruzhu/.local/workspace/plan/cols.yaml\u001B[0m\n"
     ]
    }
   ],
   "source": [
    "fx.init('torch_cnn_mnist', log_level='METRIC', log_file='./spam_metric.log')"
   ]
  },
  {
   "cell_type": "code",
   "execution_count": 52,
   "metadata": {
    "pycharm": {
     "name": "#%%\n"
    }
   },
   "outputs": [
    {
     "data": {
      "text/html": [
       "<div>\n",
       "<style scoped>\n",
       "    .dataframe tbody tr th:only-of-type {\n",
       "        vertical-align: middle;\n",
       "    }\n",
       "\n",
       "    .dataframe tbody tr th {\n",
       "        vertical-align: top;\n",
       "    }\n",
       "\n",
       "    .dataframe thead th {\n",
       "        text-align: right;\n",
       "    }\n",
       "</style>\n",
       "<table border=\"1\" class=\"dataframe\">\n",
       "  <thead>\n",
       "    <tr style=\"text-align: right;\">\n",
       "      <th></th>\n",
       "      <th>age</th>\n",
       "      <th>workclass</th>\n",
       "      <th>fnlwgt</th>\n",
       "      <th>education</th>\n",
       "      <th>educational-num</th>\n",
       "      <th>marital-status</th>\n",
       "      <th>occupation</th>\n",
       "      <th>relationship</th>\n",
       "      <th>race</th>\n",
       "      <th>gender</th>\n",
       "      <th>capital-gain</th>\n",
       "      <th>capital-loss</th>\n",
       "      <th>hours-per-week</th>\n",
       "      <th>native-country</th>\n",
       "      <th>income_&gt;50K</th>\n",
       "    </tr>\n",
       "  </thead>\n",
       "  <tbody>\n",
       "    <tr>\n",
       "      <th>0</th>\n",
       "      <td>67</td>\n",
       "      <td>Private</td>\n",
       "      <td>366425</td>\n",
       "      <td>Doctorate</td>\n",
       "      <td>16</td>\n",
       "      <td>Divorced</td>\n",
       "      <td>Exec-managerial</td>\n",
       "      <td>Not-in-family</td>\n",
       "      <td>White</td>\n",
       "      <td>Male</td>\n",
       "      <td>99999</td>\n",
       "      <td>0</td>\n",
       "      <td>60</td>\n",
       "      <td>United-States</td>\n",
       "      <td>1</td>\n",
       "    </tr>\n",
       "    <tr>\n",
       "      <th>1</th>\n",
       "      <td>17</td>\n",
       "      <td>Private</td>\n",
       "      <td>244602</td>\n",
       "      <td>12th</td>\n",
       "      <td>8</td>\n",
       "      <td>Never-married</td>\n",
       "      <td>Other-service</td>\n",
       "      <td>Own-child</td>\n",
       "      <td>White</td>\n",
       "      <td>Male</td>\n",
       "      <td>0</td>\n",
       "      <td>0</td>\n",
       "      <td>15</td>\n",
       "      <td>United-States</td>\n",
       "      <td>0</td>\n",
       "    </tr>\n",
       "    <tr>\n",
       "      <th>2</th>\n",
       "      <td>31</td>\n",
       "      <td>Private</td>\n",
       "      <td>174201</td>\n",
       "      <td>Bachelors</td>\n",
       "      <td>13</td>\n",
       "      <td>Married-civ-spouse</td>\n",
       "      <td>Exec-managerial</td>\n",
       "      <td>Husband</td>\n",
       "      <td>White</td>\n",
       "      <td>Male</td>\n",
       "      <td>0</td>\n",
       "      <td>0</td>\n",
       "      <td>40</td>\n",
       "      <td>United-States</td>\n",
       "      <td>1</td>\n",
       "    </tr>\n",
       "    <tr>\n",
       "      <th>3</th>\n",
       "      <td>58</td>\n",
       "      <td>State-gov</td>\n",
       "      <td>110199</td>\n",
       "      <td>7th-8th</td>\n",
       "      <td>4</td>\n",
       "      <td>Married-civ-spouse</td>\n",
       "      <td>Transport-moving</td>\n",
       "      <td>Husband</td>\n",
       "      <td>White</td>\n",
       "      <td>Male</td>\n",
       "      <td>0</td>\n",
       "      <td>0</td>\n",
       "      <td>40</td>\n",
       "      <td>United-States</td>\n",
       "      <td>0</td>\n",
       "    </tr>\n",
       "    <tr>\n",
       "      <th>4</th>\n",
       "      <td>25</td>\n",
       "      <td>State-gov</td>\n",
       "      <td>149248</td>\n",
       "      <td>Some-college</td>\n",
       "      <td>10</td>\n",
       "      <td>Never-married</td>\n",
       "      <td>Other-service</td>\n",
       "      <td>Not-in-family</td>\n",
       "      <td>Black</td>\n",
       "      <td>Male</td>\n",
       "      <td>0</td>\n",
       "      <td>0</td>\n",
       "      <td>40</td>\n",
       "      <td>United-States</td>\n",
       "      <td>0</td>\n",
       "    </tr>\n",
       "    <tr>\n",
       "      <th>...</th>\n",
       "      <td>...</td>\n",
       "      <td>...</td>\n",
       "      <td>...</td>\n",
       "      <td>...</td>\n",
       "      <td>...</td>\n",
       "      <td>...</td>\n",
       "      <td>...</td>\n",
       "      <td>...</td>\n",
       "      <td>...</td>\n",
       "      <td>...</td>\n",
       "      <td>...</td>\n",
       "      <td>...</td>\n",
       "      <td>...</td>\n",
       "      <td>...</td>\n",
       "      <td>...</td>\n",
       "    </tr>\n",
       "    <tr>\n",
       "      <th>43952</th>\n",
       "      <td>52</td>\n",
       "      <td>Private</td>\n",
       "      <td>68982</td>\n",
       "      <td>Bachelors</td>\n",
       "      <td>13</td>\n",
       "      <td>Married-civ-spouse</td>\n",
       "      <td>Exec-managerial</td>\n",
       "      <td>Husband</td>\n",
       "      <td>White</td>\n",
       "      <td>Male</td>\n",
       "      <td>0</td>\n",
       "      <td>0</td>\n",
       "      <td>50</td>\n",
       "      <td>United-States</td>\n",
       "      <td>1</td>\n",
       "    </tr>\n",
       "    <tr>\n",
       "      <th>43953</th>\n",
       "      <td>19</td>\n",
       "      <td>Private</td>\n",
       "      <td>116562</td>\n",
       "      <td>HS-grad</td>\n",
       "      <td>9</td>\n",
       "      <td>Never-married</td>\n",
       "      <td>Other-service</td>\n",
       "      <td>Own-child</td>\n",
       "      <td>White</td>\n",
       "      <td>Female</td>\n",
       "      <td>0</td>\n",
       "      <td>0</td>\n",
       "      <td>40</td>\n",
       "      <td>United-States</td>\n",
       "      <td>0</td>\n",
       "    </tr>\n",
       "    <tr>\n",
       "      <th>43954</th>\n",
       "      <td>30</td>\n",
       "      <td>Private</td>\n",
       "      <td>197947</td>\n",
       "      <td>Some-college</td>\n",
       "      <td>10</td>\n",
       "      <td>Divorced</td>\n",
       "      <td>Sales</td>\n",
       "      <td>Not-in-family</td>\n",
       "      <td>White</td>\n",
       "      <td>Male</td>\n",
       "      <td>0</td>\n",
       "      <td>0</td>\n",
       "      <td>58</td>\n",
       "      <td>United-States</td>\n",
       "      <td>0</td>\n",
       "    </tr>\n",
       "    <tr>\n",
       "      <th>43955</th>\n",
       "      <td>46</td>\n",
       "      <td>Private</td>\n",
       "      <td>97883</td>\n",
       "      <td>Bachelors</td>\n",
       "      <td>13</td>\n",
       "      <td>Never-married</td>\n",
       "      <td>Sales</td>\n",
       "      <td>Not-in-family</td>\n",
       "      <td>White</td>\n",
       "      <td>Female</td>\n",
       "      <td>0</td>\n",
       "      <td>0</td>\n",
       "      <td>35</td>\n",
       "      <td>United-States</td>\n",
       "      <td>0</td>\n",
       "    </tr>\n",
       "    <tr>\n",
       "      <th>43956</th>\n",
       "      <td>30</td>\n",
       "      <td>Private</td>\n",
       "      <td>375827</td>\n",
       "      <td>HS-grad</td>\n",
       "      <td>9</td>\n",
       "      <td>Never-married</td>\n",
       "      <td>Handlers-cleaners</td>\n",
       "      <td>Other-relative</td>\n",
       "      <td>White</td>\n",
       "      <td>Male</td>\n",
       "      <td>0</td>\n",
       "      <td>0</td>\n",
       "      <td>40</td>\n",
       "      <td>United-States</td>\n",
       "      <td>0</td>\n",
       "    </tr>\n",
       "  </tbody>\n",
       "</table>\n",
       "<p>43957 rows × 15 columns</p>\n",
       "</div>"
      ],
      "text/plain": [
       "       age  workclass  fnlwgt     education  educational-num  \\\n",
       "0       67    Private  366425     Doctorate               16   \n",
       "1       17    Private  244602          12th                8   \n",
       "2       31    Private  174201     Bachelors               13   \n",
       "3       58  State-gov  110199       7th-8th                4   \n",
       "4       25  State-gov  149248  Some-college               10   \n",
       "...    ...        ...     ...           ...              ...   \n",
       "43952   52    Private   68982     Bachelors               13   \n",
       "43953   19    Private  116562       HS-grad                9   \n",
       "43954   30    Private  197947  Some-college               10   \n",
       "43955   46    Private   97883     Bachelors               13   \n",
       "43956   30    Private  375827       HS-grad                9   \n",
       "\n",
       "           marital-status         occupation    relationship   race  gender  \\\n",
       "0                Divorced    Exec-managerial   Not-in-family  White    Male   \n",
       "1           Never-married      Other-service       Own-child  White    Male   \n",
       "2      Married-civ-spouse    Exec-managerial         Husband  White    Male   \n",
       "3      Married-civ-spouse   Transport-moving         Husband  White    Male   \n",
       "4           Never-married      Other-service   Not-in-family  Black    Male   \n",
       "...                   ...                ...             ...    ...     ...   \n",
       "43952  Married-civ-spouse    Exec-managerial         Husband  White    Male   \n",
       "43953       Never-married      Other-service       Own-child  White  Female   \n",
       "43954            Divorced              Sales   Not-in-family  White    Male   \n",
       "43955       Never-married              Sales   Not-in-family  White  Female   \n",
       "43956       Never-married  Handlers-cleaners  Other-relative  White    Male   \n",
       "\n",
       "       capital-gain  capital-loss  hours-per-week native-country  income_>50K  \n",
       "0             99999             0              60  United-States            1  \n",
       "1                 0             0              15  United-States            0  \n",
       "2                 0             0              40  United-States            1  \n",
       "3                 0             0              40  United-States            0  \n",
       "4                 0             0              40  United-States            0  \n",
       "...             ...           ...             ...            ...          ...  \n",
       "43952             0             0              50  United-States            1  \n",
       "43953             0             0              40  United-States            0  \n",
       "43954             0             0              58  United-States            0  \n",
       "43955             0             0              35  United-States            0  \n",
       "43956             0             0              40  United-States            0  \n",
       "\n",
       "[43957 rows x 15 columns]"
      ]
     },
     "execution_count": 52,
     "metadata": {},
     "output_type": "execute_result"
    }
   ],
   "source": [
    "train = pd.read_csv(\"/Users/zhiruzhu/Desktop/data_station/fl_test/income/train.csv\")\n",
    "train"
   ]
  },
  {
   "cell_type": "code",
   "execution_count": 53,
   "metadata": {
    "pycharm": {
     "name": "#%%\n"
    }
   },
   "outputs": [],
   "source": [
    "def preprocess(data):\n",
    "    # remove space\n",
    "    data.columns = [cols.replace(' ', '') for cols in data.columns]\n",
    "    data[\"education\"] = [cols.replace(' ', '') for cols in data[\"education\"]]\n",
    "    data[\"marital-status\"] = [cols.replace(' ', '') for cols in data[\"marital-status\"]]\n",
    "    data[\"relationship\"] = [cols.replace(' ', '') for cols in data[\"relationship\"]]\n",
    "    data[\"race\"] = [cols.replace(' ', '') for cols in data[\"race\"]]\n",
    "    data[\"gender\"] = [cols.replace(' ', '') for cols in data[\"gender\"]]\n",
    "\n",
    "    #missing data\n",
    "    data = data.replace('?', np.nan)\n",
    "    data.dropna(inplace=True, axis=0)\n",
    "\n",
    "    #categorical value\n",
    "    cat_columns = ['workclass', 'education', 'marital-status', 'occupation', 'relationship', 'race', 'gender',\n",
    "                   'native-country']\n",
    "    df_dummy = pd.get_dummies(data, columns=cat_columns)\n",
    "    return df_dummy"
   ]
  },
  {
   "cell_type": "code",
   "execution_count": 54,
   "metadata": {
    "pycharm": {
     "name": "#%%\n"
    }
   },
   "outputs": [
    {
     "data": {
      "text/html": [
       "<div>\n",
       "<style scoped>\n",
       "    .dataframe tbody tr th:only-of-type {\n",
       "        vertical-align: middle;\n",
       "    }\n",
       "\n",
       "    .dataframe tbody tr th {\n",
       "        vertical-align: top;\n",
       "    }\n",
       "\n",
       "    .dataframe thead th {\n",
       "        text-align: right;\n",
       "    }\n",
       "</style>\n",
       "<table border=\"1\" class=\"dataframe\">\n",
       "  <thead>\n",
       "    <tr style=\"text-align: right;\">\n",
       "      <th></th>\n",
       "      <th>age</th>\n",
       "      <th>fnlwgt</th>\n",
       "      <th>educational-num</th>\n",
       "      <th>capital-gain</th>\n",
       "      <th>capital-loss</th>\n",
       "      <th>hours-per-week</th>\n",
       "      <th>income_&gt;50K</th>\n",
       "      <th>workclass_Federal-gov</th>\n",
       "      <th>workclass_Local-gov</th>\n",
       "      <th>workclass_Private</th>\n",
       "      <th>...</th>\n",
       "      <th>native-country_Portugal</th>\n",
       "      <th>native-country_Puerto-Rico</th>\n",
       "      <th>native-country_Scotland</th>\n",
       "      <th>native-country_South</th>\n",
       "      <th>native-country_Taiwan</th>\n",
       "      <th>native-country_Thailand</th>\n",
       "      <th>native-country_Trinadad&amp;Tobago</th>\n",
       "      <th>native-country_United-States</th>\n",
       "      <th>native-country_Vietnam</th>\n",
       "      <th>native-country_Yugoslavia</th>\n",
       "    </tr>\n",
       "  </thead>\n",
       "  <tbody>\n",
       "    <tr>\n",
       "      <th>0</th>\n",
       "      <td>67</td>\n",
       "      <td>366425</td>\n",
       "      <td>16</td>\n",
       "      <td>99999</td>\n",
       "      <td>0</td>\n",
       "      <td>60</td>\n",
       "      <td>1</td>\n",
       "      <td>0</td>\n",
       "      <td>0</td>\n",
       "      <td>1</td>\n",
       "      <td>...</td>\n",
       "      <td>0</td>\n",
       "      <td>0</td>\n",
       "      <td>0</td>\n",
       "      <td>0</td>\n",
       "      <td>0</td>\n",
       "      <td>0</td>\n",
       "      <td>0</td>\n",
       "      <td>1</td>\n",
       "      <td>0</td>\n",
       "      <td>0</td>\n",
       "    </tr>\n",
       "    <tr>\n",
       "      <th>1</th>\n",
       "      <td>17</td>\n",
       "      <td>244602</td>\n",
       "      <td>8</td>\n",
       "      <td>0</td>\n",
       "      <td>0</td>\n",
       "      <td>15</td>\n",
       "      <td>0</td>\n",
       "      <td>0</td>\n",
       "      <td>0</td>\n",
       "      <td>1</td>\n",
       "      <td>...</td>\n",
       "      <td>0</td>\n",
       "      <td>0</td>\n",
       "      <td>0</td>\n",
       "      <td>0</td>\n",
       "      <td>0</td>\n",
       "      <td>0</td>\n",
       "      <td>0</td>\n",
       "      <td>1</td>\n",
       "      <td>0</td>\n",
       "      <td>0</td>\n",
       "    </tr>\n",
       "    <tr>\n",
       "      <th>2</th>\n",
       "      <td>31</td>\n",
       "      <td>174201</td>\n",
       "      <td>13</td>\n",
       "      <td>0</td>\n",
       "      <td>0</td>\n",
       "      <td>40</td>\n",
       "      <td>1</td>\n",
       "      <td>0</td>\n",
       "      <td>0</td>\n",
       "      <td>1</td>\n",
       "      <td>...</td>\n",
       "      <td>0</td>\n",
       "      <td>0</td>\n",
       "      <td>0</td>\n",
       "      <td>0</td>\n",
       "      <td>0</td>\n",
       "      <td>0</td>\n",
       "      <td>0</td>\n",
       "      <td>1</td>\n",
       "      <td>0</td>\n",
       "      <td>0</td>\n",
       "    </tr>\n",
       "    <tr>\n",
       "      <th>3</th>\n",
       "      <td>58</td>\n",
       "      <td>110199</td>\n",
       "      <td>4</td>\n",
       "      <td>0</td>\n",
       "      <td>0</td>\n",
       "      <td>40</td>\n",
       "      <td>0</td>\n",
       "      <td>0</td>\n",
       "      <td>0</td>\n",
       "      <td>0</td>\n",
       "      <td>...</td>\n",
       "      <td>0</td>\n",
       "      <td>0</td>\n",
       "      <td>0</td>\n",
       "      <td>0</td>\n",
       "      <td>0</td>\n",
       "      <td>0</td>\n",
       "      <td>0</td>\n",
       "      <td>1</td>\n",
       "      <td>0</td>\n",
       "      <td>0</td>\n",
       "    </tr>\n",
       "    <tr>\n",
       "      <th>4</th>\n",
       "      <td>25</td>\n",
       "      <td>149248</td>\n",
       "      <td>10</td>\n",
       "      <td>0</td>\n",
       "      <td>0</td>\n",
       "      <td>40</td>\n",
       "      <td>0</td>\n",
       "      <td>0</td>\n",
       "      <td>0</td>\n",
       "      <td>0</td>\n",
       "      <td>...</td>\n",
       "      <td>0</td>\n",
       "      <td>0</td>\n",
       "      <td>0</td>\n",
       "      <td>0</td>\n",
       "      <td>0</td>\n",
       "      <td>0</td>\n",
       "      <td>0</td>\n",
       "      <td>1</td>\n",
       "      <td>0</td>\n",
       "      <td>0</td>\n",
       "    </tr>\n",
       "    <tr>\n",
       "      <th>...</th>\n",
       "      <td>...</td>\n",
       "      <td>...</td>\n",
       "      <td>...</td>\n",
       "      <td>...</td>\n",
       "      <td>...</td>\n",
       "      <td>...</td>\n",
       "      <td>...</td>\n",
       "      <td>...</td>\n",
       "      <td>...</td>\n",
       "      <td>...</td>\n",
       "      <td>...</td>\n",
       "      <td>...</td>\n",
       "      <td>...</td>\n",
       "      <td>...</td>\n",
       "      <td>...</td>\n",
       "      <td>...</td>\n",
       "      <td>...</td>\n",
       "      <td>...</td>\n",
       "      <td>...</td>\n",
       "      <td>...</td>\n",
       "      <td>...</td>\n",
       "    </tr>\n",
       "    <tr>\n",
       "      <th>43952</th>\n",
       "      <td>52</td>\n",
       "      <td>68982</td>\n",
       "      <td>13</td>\n",
       "      <td>0</td>\n",
       "      <td>0</td>\n",
       "      <td>50</td>\n",
       "      <td>1</td>\n",
       "      <td>0</td>\n",
       "      <td>0</td>\n",
       "      <td>1</td>\n",
       "      <td>...</td>\n",
       "      <td>0</td>\n",
       "      <td>0</td>\n",
       "      <td>0</td>\n",
       "      <td>0</td>\n",
       "      <td>0</td>\n",
       "      <td>0</td>\n",
       "      <td>0</td>\n",
       "      <td>1</td>\n",
       "      <td>0</td>\n",
       "      <td>0</td>\n",
       "    </tr>\n",
       "    <tr>\n",
       "      <th>43953</th>\n",
       "      <td>19</td>\n",
       "      <td>116562</td>\n",
       "      <td>9</td>\n",
       "      <td>0</td>\n",
       "      <td>0</td>\n",
       "      <td>40</td>\n",
       "      <td>0</td>\n",
       "      <td>0</td>\n",
       "      <td>0</td>\n",
       "      <td>1</td>\n",
       "      <td>...</td>\n",
       "      <td>0</td>\n",
       "      <td>0</td>\n",
       "      <td>0</td>\n",
       "      <td>0</td>\n",
       "      <td>0</td>\n",
       "      <td>0</td>\n",
       "      <td>0</td>\n",
       "      <td>1</td>\n",
       "      <td>0</td>\n",
       "      <td>0</td>\n",
       "    </tr>\n",
       "    <tr>\n",
       "      <th>43954</th>\n",
       "      <td>30</td>\n",
       "      <td>197947</td>\n",
       "      <td>10</td>\n",
       "      <td>0</td>\n",
       "      <td>0</td>\n",
       "      <td>58</td>\n",
       "      <td>0</td>\n",
       "      <td>0</td>\n",
       "      <td>0</td>\n",
       "      <td>1</td>\n",
       "      <td>...</td>\n",
       "      <td>0</td>\n",
       "      <td>0</td>\n",
       "      <td>0</td>\n",
       "      <td>0</td>\n",
       "      <td>0</td>\n",
       "      <td>0</td>\n",
       "      <td>0</td>\n",
       "      <td>1</td>\n",
       "      <td>0</td>\n",
       "      <td>0</td>\n",
       "    </tr>\n",
       "    <tr>\n",
       "      <th>43955</th>\n",
       "      <td>46</td>\n",
       "      <td>97883</td>\n",
       "      <td>13</td>\n",
       "      <td>0</td>\n",
       "      <td>0</td>\n",
       "      <td>35</td>\n",
       "      <td>0</td>\n",
       "      <td>0</td>\n",
       "      <td>0</td>\n",
       "      <td>1</td>\n",
       "      <td>...</td>\n",
       "      <td>0</td>\n",
       "      <td>0</td>\n",
       "      <td>0</td>\n",
       "      <td>0</td>\n",
       "      <td>0</td>\n",
       "      <td>0</td>\n",
       "      <td>0</td>\n",
       "      <td>1</td>\n",
       "      <td>0</td>\n",
       "      <td>0</td>\n",
       "    </tr>\n",
       "    <tr>\n",
       "      <th>43956</th>\n",
       "      <td>30</td>\n",
       "      <td>375827</td>\n",
       "      <td>9</td>\n",
       "      <td>0</td>\n",
       "      <td>0</td>\n",
       "      <td>40</td>\n",
       "      <td>0</td>\n",
       "      <td>0</td>\n",
       "      <td>0</td>\n",
       "      <td>1</td>\n",
       "      <td>...</td>\n",
       "      <td>0</td>\n",
       "      <td>0</td>\n",
       "      <td>0</td>\n",
       "      <td>0</td>\n",
       "      <td>0</td>\n",
       "      <td>0</td>\n",
       "      <td>0</td>\n",
       "      <td>1</td>\n",
       "      <td>0</td>\n",
       "      <td>0</td>\n",
       "    </tr>\n",
       "  </tbody>\n",
       "</table>\n",
       "<p>40727 rows × 105 columns</p>\n",
       "</div>"
      ],
      "text/plain": [
       "       age  fnlwgt  educational-num  capital-gain  capital-loss  \\\n",
       "0       67  366425               16         99999             0   \n",
       "1       17  244602                8             0             0   \n",
       "2       31  174201               13             0             0   \n",
       "3       58  110199                4             0             0   \n",
       "4       25  149248               10             0             0   \n",
       "...    ...     ...              ...           ...           ...   \n",
       "43952   52   68982               13             0             0   \n",
       "43953   19  116562                9             0             0   \n",
       "43954   30  197947               10             0             0   \n",
       "43955   46   97883               13             0             0   \n",
       "43956   30  375827                9             0             0   \n",
       "\n",
       "       hours-per-week  income_>50K  workclass_Federal-gov  \\\n",
       "0                  60            1                      0   \n",
       "1                  15            0                      0   \n",
       "2                  40            1                      0   \n",
       "3                  40            0                      0   \n",
       "4                  40            0                      0   \n",
       "...               ...          ...                    ...   \n",
       "43952              50            1                      0   \n",
       "43953              40            0                      0   \n",
       "43954              58            0                      0   \n",
       "43955              35            0                      0   \n",
       "43956              40            0                      0   \n",
       "\n",
       "       workclass_Local-gov  workclass_Private  ...  native-country_Portugal  \\\n",
       "0                        0                  1  ...                        0   \n",
       "1                        0                  1  ...                        0   \n",
       "2                        0                  1  ...                        0   \n",
       "3                        0                  0  ...                        0   \n",
       "4                        0                  0  ...                        0   \n",
       "...                    ...                ...  ...                      ...   \n",
       "43952                    0                  1  ...                        0   \n",
       "43953                    0                  1  ...                        0   \n",
       "43954                    0                  1  ...                        0   \n",
       "43955                    0                  1  ...                        0   \n",
       "43956                    0                  1  ...                        0   \n",
       "\n",
       "       native-country_Puerto-Rico  native-country_Scotland  \\\n",
       "0                               0                        0   \n",
       "1                               0                        0   \n",
       "2                               0                        0   \n",
       "3                               0                        0   \n",
       "4                               0                        0   \n",
       "...                           ...                      ...   \n",
       "43952                           0                        0   \n",
       "43953                           0                        0   \n",
       "43954                           0                        0   \n",
       "43955                           0                        0   \n",
       "43956                           0                        0   \n",
       "\n",
       "       native-country_South  native-country_Taiwan  native-country_Thailand  \\\n",
       "0                         0                      0                        0   \n",
       "1                         0                      0                        0   \n",
       "2                         0                      0                        0   \n",
       "3                         0                      0                        0   \n",
       "4                         0                      0                        0   \n",
       "...                     ...                    ...                      ...   \n",
       "43952                     0                      0                        0   \n",
       "43953                     0                      0                        0   \n",
       "43954                     0                      0                        0   \n",
       "43955                     0                      0                        0   \n",
       "43956                     0                      0                        0   \n",
       "\n",
       "       native-country_Trinadad&Tobago  native-country_United-States  \\\n",
       "0                                   0                             1   \n",
       "1                                   0                             1   \n",
       "2                                   0                             1   \n",
       "3                                   0                             1   \n",
       "4                                   0                             1   \n",
       "...                               ...                           ...   \n",
       "43952                               0                             1   \n",
       "43953                               0                             1   \n",
       "43954                               0                             1   \n",
       "43955                               0                             1   \n",
       "43956                               0                             1   \n",
       "\n",
       "       native-country_Vietnam  native-country_Yugoslavia  \n",
       "0                           0                          0  \n",
       "1                           0                          0  \n",
       "2                           0                          0  \n",
       "3                           0                          0  \n",
       "4                           0                          0  \n",
       "...                       ...                        ...  \n",
       "43952                       0                          0  \n",
       "43953                       0                          0  \n",
       "43954                       0                          0  \n",
       "43955                       0                          0  \n",
       "43956                       0                          0  \n",
       "\n",
       "[40727 rows x 105 columns]"
      ]
     },
     "execution_count": 54,
     "metadata": {},
     "output_type": "execute_result"
    }
   ],
   "source": [
    "train = preprocess(train)\n",
    "train"
   ]
  },
  {
   "cell_type": "code",
   "execution_count": 77,
   "metadata": {
    "pycharm": {
     "name": "#%%\n"
    }
   },
   "outputs": [],
   "source": [
    "from sklearn.model_selection import train_test_split\n",
    "\n",
    "X = train.drop(\"income_>50K\", axis=1)\n",
    "y = train[\"income_>50K\"]\n",
    "\n",
    "X_train, X_test, y_train, y_test = train_test_split(X, y, test_size=0.1)"
   ]
  },
  {
   "cell_type": "code",
   "execution_count": 78,
   "metadata": {
    "pycharm": {
     "name": "#%%\n"
    }
   },
   "outputs": [],
   "source": [
    "X_train = X_train.to_numpy(dtype=np.float32)\n",
    "X_test = X_test.to_numpy(dtype=np.float32)\n",
    "y_train = y_train.to_numpy(dtype=np.float32)\n",
    "y_test = y_test.to_numpy(dtype=np.float32)"
   ]
  },
  {
   "cell_type": "code",
   "execution_count": 79,
   "metadata": {
    "pycharm": {
     "name": "#%%\n"
    }
   },
   "outputs": [
    {
     "name": "stdout",
     "output_type": "stream",
     "text": [
      "Inferred 2 classes from the provided labels...\n"
     ]
    }
   ],
   "source": [
    "batch_size = 32\n",
    "num_classes = 2\n",
    "\n",
    "fl_data = FederatedDataSet(X_train, y_train, X_test, y_test, batch_size=batch_size) #, num_classes=num_classes)"
   ]
  },
  {
   "cell_type": "code",
   "execution_count": 80,
   "metadata": {},
   "outputs": [
    {
     "data": {
      "text/plain": [
       "104"
      ]
     },
     "execution_count": 80,
     "metadata": {},
     "output_type": "execute_result"
    }
   ],
   "source": [
    "X_train.shape[1]"
   ]
  },
  {
   "cell_type": "code",
   "execution_count": 95,
   "metadata": {
    "pycharm": {
     "name": "#%%\n"
    }
   },
   "outputs": [],
   "source": [
    "input_dim = X_train.shape[1]\n",
    "output_dim = 1\n",
    "\n",
    "class LogisticRegression(torch.nn.Module):\n",
    "\n",
    "     def __init__(self):\n",
    "         super(LogisticRegression, self).__init__()\n",
    "         self.linear = torch.nn.Linear(input_dim, output_dim)\n",
    "\n",
    "     def forward(self, x):\n",
    "         outputs = torch.sigmoid(self.linear(x))\n",
    "         return outputs\n",
    "\n",
    "\n",
    "learning_rate = 0.01\n",
    "optimizer = lambda x: torch.optim.SGD(x, lr=learning_rate)\n",
    "\n",
    "def cross_entropy(output, target):\n",
    "    \"\"\"Binary cross-entropy metric\n",
    "    \"\"\"\n",
    "    # criterion = nn.CrossEntropyLoss()\n",
    "    # loss = criterion(output, target)\n",
    "    # return loss\n",
    "    return F.binary_cross_entropy(input=output,target=target)"
   ]
  },
  {
   "cell_type": "code",
   "execution_count": 96,
   "metadata": {
    "pycharm": {
     "name": "#%%\n"
    }
   },
   "outputs": [],
   "source": [
    "import time\n",
    "\n",
    "log = open(\"./logs/income_openfl.log\", \"w\")\n",
    "\n",
    "def write_metric(node_name, task_name, metric_name, metric, round_number):\n",
    "    log.write(\"{}/{}/{}: {}, {}, {}\\n\".format(node_name, task_name, metric_name, metric, round_number, time.time()))"
   ]
  },
  {
   "cell_type": "code",
   "execution_count": 97,
   "metadata": {
    "pycharm": {
     "name": "#%%\n"
    }
   },
   "outputs": [
    {
     "data": {
      "text/html": [
       "<pre style=\"white-space:pre;overflow-x:auto;line-height:normal;font-family:Menlo,'DejaVu Sans Mono',consolas,'Courier New',monospace\"><span style=\"color: #7fbfbf\">[23:30:53] </span><span style=\"color: #800000\">WARNING</span>  tried to remove tensor: __opt_state_needed not present in the tensor dict                                                       <a href=\"file:///Users/zhiruzhu/Desktop/data_station/fl_test/venv/lib/python3.8/site-packages/openfl/utilities/utils.py\"><span style=\"color: #7f7f7f\">utils.py</span></a><span style=\"color: #7f7f7f\">:170</span>\n",
       "</pre>\n"
      ],
      "text/plain": [
       "<rich.jupyter.JupyterRenderable at 0x154833c10>"
      ]
     },
     "metadata": {},
     "output_type": "display_data"
    }
   ],
   "source": [
    "#Create a federated model using the pytorch class, lambda optimizer function, and loss function\n",
    "fl_model = FederatedModel(build_model=LogisticRegression,optimizer=optimizer,loss_fn=cross_entropy,data_loader=fl_data)"
   ]
  },
  {
   "cell_type": "code",
   "execution_count": 98,
   "metadata": {
    "pycharm": {
     "name": "#%%\n"
    }
   },
   "outputs": [
    {
     "data": {
      "text/html": [
       "<pre style=\"white-space:pre;overflow-x:auto;line-height:normal;font-family:Menlo,'DejaVu Sans Mono',consolas,'Courier New',monospace\"><span style=\"color: #7fbfbf\">           </span><span style=\"color: #800000\">WARNING</span>  tried to remove tensor: __opt_state_needed not present in the tensor dict                                                       <a href=\"file:///Users/zhiruzhu/Desktop/data_station/fl_test/venv/lib/python3.8/site-packages/openfl/utilities/utils.py\"><span style=\"color: #7f7f7f\">utils.py</span></a><span style=\"color: #7f7f7f\">:170</span>\n",
       "</pre>\n"
      ],
      "text/plain": [
       "<rich.jupyter.JupyterRenderable at 0x17d813190>"
      ]
     },
     "metadata": {},
     "output_type": "display_data"
    },
    {
     "data": {
      "text/html": [
       "<pre style=\"white-space:pre;overflow-x:auto;line-height:normal;font-family:Menlo,'DejaVu Sans Mono',consolas,'Courier New',monospace\"><span style=\"color: #7fbfbf\">           </span><span style=\"color: #800000\">WARNING</span>  tried to remove tensor: __opt_state_needed not present in the tensor dict                                                       <a href=\"file:///Users/zhiruzhu/Desktop/data_station/fl_test/venv/lib/python3.8/site-packages/openfl/utilities/utils.py\"><span style=\"color: #7f7f7f\">utils.py</span></a><span style=\"color: #7f7f7f\">:170</span>\n",
       "</pre>\n"
      ],
      "text/plain": [
       "<rich.jupyter.JupyterRenderable at 0x154827910>"
      ]
     },
     "metadata": {},
     "output_type": "display_data"
    },
    {
     "data": {
      "text/html": [
       "<pre style=\"white-space:pre;overflow-x:auto;line-height:normal;font-family:Menlo,'DejaVu Sans Mono',consolas,'Courier New',monospace\"><span style=\"color: #7fbfbf\">           </span><span style=\"color: #800000\">WARNING</span>  tried to remove tensor: __opt_state_needed not present in the tensor dict                                                       <a href=\"file:///Users/zhiruzhu/Desktop/data_station/fl_test/venv/lib/python3.8/site-packages/openfl/utilities/utils.py\"><span style=\"color: #7f7f7f\">utils.py</span></a><span style=\"color: #7f7f7f\">:170</span>\n",
       "</pre>\n"
      ],
      "text/plain": [
       "<rich.jupyter.JupyterRenderable at 0x154815f40>"
      ]
     },
     "metadata": {},
     "output_type": "display_data"
    },
    {
     "data": {
      "text/html": [
       "<pre style=\"white-space:pre;overflow-x:auto;line-height:normal;font-family:Menlo,'DejaVu Sans Mono',consolas,'Courier New',monospace\"><span style=\"color: #7fbfbf\">           </span><span style=\"color: #800000\">WARNING</span>  tried to remove tensor: __opt_state_needed not present in the tensor dict                                                       <a href=\"file:///Users/zhiruzhu/Desktop/data_station/fl_test/venv/lib/python3.8/site-packages/openfl/utilities/utils.py\"><span style=\"color: #7f7f7f\">utils.py</span></a><span style=\"color: #7f7f7f\">:170</span>\n",
       "</pre>\n"
      ],
      "text/plain": [
       "<rich.jupyter.JupyterRenderable at 0x154815c10>"
      ]
     },
     "metadata": {},
     "output_type": "display_data"
    },
    {
     "data": {
      "text/html": [
       "<pre style=\"white-space:pre;overflow-x:auto;line-height:normal;font-family:Menlo,'DejaVu Sans Mono',consolas,'Courier New',monospace\"><span style=\"color: #7fbfbf\">           </span><span style=\"color: #800000\">WARNING</span>  tried to remove tensor: __opt_state_needed not present in the tensor dict                                                       <a href=\"file:///Users/zhiruzhu/Desktop/data_station/fl_test/venv/lib/python3.8/site-packages/openfl/utilities/utils.py\"><span style=\"color: #7f7f7f\">utils.py</span></a><span style=\"color: #7f7f7f\">:170</span>\n",
       "</pre>\n"
      ],
      "text/plain": [
       "<rich.jupyter.JupyterRenderable at 0x154815700>"
      ]
     },
     "metadata": {},
     "output_type": "display_data"
    },
    {
     "data": {
      "text/html": [
       "<pre style=\"white-space:pre;overflow-x:auto;line-height:normal;font-family:Menlo,'DejaVu Sans Mono',consolas,'Courier New',monospace\"><span style=\"color: #7fbfbf\">           </span><span style=\"color: #800000\">WARNING</span>  tried to remove tensor: __opt_state_needed not present in the tensor dict                                                       <a href=\"file:///Users/zhiruzhu/Desktop/data_station/fl_test/venv/lib/python3.8/site-packages/openfl/utilities/utils.py\"><span style=\"color: #7f7f7f\">utils.py</span></a><span style=\"color: #7f7f7f\">:170</span>\n",
       "</pre>\n"
      ],
      "text/plain": [
       "<rich.jupyter.JupyterRenderable at 0x154815160>"
      ]
     },
     "metadata": {},
     "output_type": "display_data"
    },
    {
     "data": {
      "text/html": [
       "<pre style=\"white-space:pre;overflow-x:auto;line-height:normal;font-family:Menlo,'DejaVu Sans Mono',consolas,'Courier New',monospace\"><span style=\"color: #7fbfbf\">           </span><span style=\"color: #800000\">WARNING</span>  tried to remove tensor: __opt_state_needed not present in the tensor dict                                                       <a href=\"file:///Users/zhiruzhu/Desktop/data_station/fl_test/venv/lib/python3.8/site-packages/openfl/utilities/utils.py\"><span style=\"color: #7f7f7f\">utils.py</span></a><span style=\"color: #7f7f7f\">:170</span>\n",
       "</pre>\n"
      ],
      "text/plain": [
       "<rich.jupyter.JupyterRenderable at 0x154815310>"
      ]
     },
     "metadata": {},
     "output_type": "display_data"
    },
    {
     "data": {
      "text/html": [
       "<pre style=\"white-space:pre;overflow-x:auto;line-height:normal;font-family:Menlo,'DejaVu Sans Mono',consolas,'Courier New',monospace\"><span style=\"color: #7fbfbf\">           </span><span style=\"color: #800000\">WARNING</span>  tried to remove tensor: __opt_state_needed not present in the tensor dict                                                       <a href=\"file:///Users/zhiruzhu/Desktop/data_station/fl_test/venv/lib/python3.8/site-packages/openfl/utilities/utils.py\"><span style=\"color: #7f7f7f\">utils.py</span></a><span style=\"color: #7f7f7f\">:170</span>\n",
       "</pre>\n"
      ],
      "text/plain": [
       "<rich.jupyter.JupyterRenderable at 0x154814880>"
      ]
     },
     "metadata": {},
     "output_type": "display_data"
    }
   ],
   "source": [
    "num_collaborators = 8\n",
    "collaborator_models = fl_model.setup(num_collaborators=num_collaborators)\n",
    "collaborators = {}\n",
    "for i in range(num_collaborators):\n",
    "    collaborators[i] = collaborator_models[i]\n",
    "\n",
    "# collaborators = {'1':collaborator_models[0],\n",
    "#                  '2':collaborator_models[1],\n",
    "#                  '3':collaborator_models[2],\n",
    "#                  '4':collaborator_models[3],\n",
    "#                  '5':collaborator_models[4],\n",
    "#                  '6':collaborator_models[5],\n",
    "#                  '7':collaborator_models[6],\n",
    "#                  '8':collaborator_models[7]}"
   ]
  },
  {
   "cell_type": "code",
   "execution_count": 99,
   "metadata": {
    "pycharm": {
     "name": "#%%\n"
    }
   },
   "outputs": [
    {
     "name": "stdout",
     "output_type": "stream",
     "text": [
      "Original training data size: 36654\n",
      "Original validation data size: 4073\n",
      "\n",
      "Collaborator 0's training data size: 4582\n",
      "Collaborator 0's validation data size: 510\n",
      "\n",
      "Collaborator 1's training data size: 4582\n",
      "Collaborator 1's validation data size: 509\n",
      "\n",
      "Collaborator 2's training data size: 4582\n",
      "Collaborator 2's validation data size: 509\n",
      "\n",
      "Collaborator 3's training data size: 4582\n",
      "Collaborator 3's validation data size: 509\n",
      "\n",
      "Collaborator 4's training data size: 4582\n",
      "Collaborator 4's validation data size: 509\n",
      "\n",
      "Collaborator 5's training data size: 4582\n",
      "Collaborator 5's validation data size: 509\n",
      "\n",
      "Collaborator 6's training data size: 4581\n",
      "Collaborator 6's validation data size: 509\n",
      "\n",
      "Collaborator 7's training data size: 4581\n",
      "Collaborator 7's validation data size: 509\n",
      "\n"
     ]
    }
   ],
   "source": [
    "#Original MNIST dataset\n",
    "print(f'Original training data size: {len(X_train)}')\n",
    "print(f'Original validation data size: {len(X_test)}\\n')\n",
    "\n",
    "for i, model in enumerate(collaborator_models):\n",
    "    print(f'Collaborator {i}\\'s training data size: {len(model.data_loader.X_train)}')\n",
    "    print(f'Collaborator {i}\\'s validation data size: {len(model.data_loader.X_valid)}\\n')"
   ]
  },
  {
   "cell_type": "code",
   "execution_count": 100,
   "metadata": {
    "pycharm": {
     "name": "#%%\n"
    }
   },
   "outputs": [
    {
     "name": "stdout",
     "output_type": "stream",
     "text": [
      "{\n",
      "    \"aggregator.settings.best_state_path\": \"save/torch_cnn_mnist_best.pbuf\",\n",
      "    \"aggregator.settings.db_store_rounds\": 2,\n",
      "    \"aggregator.settings.init_state_path\": \"save/torch_cnn_mnist_init.pbuf\",\n",
      "    \"aggregator.settings.last_state_path\": \"save/torch_cnn_mnist_last.pbuf\",\n",
      "    \"aggregator.settings.log_metric_callback\": {\n",
      "        \"template\": \"src.mnist_utils.write_metric\"\n",
      "    },\n",
      "    \"aggregator.settings.rounds_to_train\": 10,\n",
      "    \"aggregator.settings.write_logs\": false,\n",
      "    \"aggregator.template\": \"openfl.component.Aggregator\",\n",
      "    \"assigner.settings.task_groups\": [\n",
      "        {\n",
      "            \"name\": \"train_and_validate\",\n",
      "            \"percentage\": 1.0,\n",
      "            \"tasks\": [\n",
      "                \"aggregated_model_validation\",\n",
      "                \"train\",\n",
      "                \"locally_tuned_model_validation\"\n",
      "            ]\n",
      "        }\n",
      "    ],\n",
      "    \"assigner.template\": \"openfl.component.RandomGroupedAssigner\",\n",
      "    \"collaborator.settings.db_store_rounds\": 1,\n",
      "    \"collaborator.settings.delta_updates\": false,\n",
      "    \"collaborator.settings.opt_treatment\": \"RESET\",\n",
      "    \"collaborator.template\": \"openfl.component.Collaborator\",\n",
      "    \"compression_pipeline.settings\": {},\n",
      "    \"compression_pipeline.template\": \"openfl.pipelines.NoCompressionPipeline\",\n",
      "    \"data_loader.settings.batch_size\": 256,\n",
      "    \"data_loader.settings.collaborator_count\": 2,\n",
      "    \"data_loader.settings.data_group_name\": \"mnist\",\n",
      "    \"data_loader.template\": \"src.ptmnist_inmemory.PyTorchMNISTInMemory\",\n",
      "    \"network.settings.agg_addr\": \"1.0.0.0.0.0.0.0.0.0.0.0.0.0.0.0.0.0.0.0.0.0.0.0.0.0.0.0.0.0.0.0.ip6.arpa\",\n",
      "    \"network.settings.agg_port\": 60840,\n",
      "    \"network.settings.cert_folder\": \"cert\",\n",
      "    \"network.settings.client_reconnect_interval\": 5,\n",
      "    \"network.settings.disable_client_auth\": false,\n",
      "    \"network.settings.hash_salt\": \"auto\",\n",
      "    \"network.settings.tls\": true,\n",
      "    \"network.template\": \"openfl.federation.Network\",\n",
      "    \"task_runner.settings\": {},\n",
      "    \"task_runner.template\": \"src.pt_cnn.PyTorchCNN\",\n",
      "    \"tasks.aggregated_model_validation.function\": \"validate\",\n",
      "    \"tasks.aggregated_model_validation.kwargs\": {\n",
      "        \"apply\": \"global\",\n",
      "        \"metrics\": [\n",
      "            \"acc\"\n",
      "        ]\n",
      "    },\n",
      "    \"tasks.locally_tuned_model_validation.function\": \"validate\",\n",
      "    \"tasks.locally_tuned_model_validation.kwargs\": {\n",
      "        \"apply\": \"local\",\n",
      "        \"metrics\": [\n",
      "            \"acc\"\n",
      "        ]\n",
      "    },\n",
      "    \"tasks.settings\": {},\n",
      "    \"tasks.train.function\": \"train_batches\",\n",
      "    \"tasks.train.kwargs\": {\n",
      "        \"epochs\": 1,\n",
      "        \"metrics\": [\n",
      "            \"loss\"\n",
      "        ]\n",
      "    }\n",
      "}\n"
     ]
    }
   ],
   "source": [
    " #Get the current values of the plan. Each of these can be overridden\n",
    "print(fx.get_plan())"
   ]
  },
  {
   "cell_type": "code",
   "execution_count": 101,
   "metadata": {
    "pycharm": {
     "name": "#%%\n"
    }
   },
   "outputs": [
    {
     "ename": "IndexError",
     "evalue": "Dimension out of range (expected to be in range of [-1, 0], but got 1)",
     "output_type": "error",
     "traceback": [
      "\u001B[0;31m---------------------------------------------------------------------------\u001B[0m",
      "\u001B[0;31mIndexError\u001B[0m                                Traceback (most recent call last)",
      "Input \u001B[0;32mIn [101]\u001B[0m, in \u001B[0;36m<cell line: 3>\u001B[0;34m()\u001B[0m\n\u001B[1;32m      1\u001B[0m \u001B[38;5;66;03m# Run experiment, return trained FederatedModel\u001B[39;00m\n\u001B[0;32m----> 3\u001B[0m final_fl_model \u001B[38;5;241m=\u001B[39m \u001B[43mfx\u001B[49m\u001B[38;5;241;43m.\u001B[39;49m\u001B[43mrun_experiment\u001B[49m\u001B[43m(\u001B[49m\u001B[43mcollaborators\u001B[49m\u001B[43m,\u001B[49m\u001B[43m \u001B[49m\u001B[43moverride_config\u001B[49m\u001B[38;5;241;43m=\u001B[39;49m\u001B[43m{\u001B[49m\n\u001B[1;32m      4\u001B[0m \u001B[43m    \u001B[49m\u001B[38;5;124;43m'\u001B[39;49m\u001B[38;5;124;43maggregator.settings.rounds_to_train\u001B[39;49m\u001B[38;5;124;43m'\u001B[39;49m\u001B[43m:\u001B[49m\u001B[43m \u001B[49m\u001B[38;5;241;43m200000\u001B[39;49m\u001B[43m,\u001B[49m\n\u001B[1;32m      5\u001B[0m \u001B[43m    \u001B[49m\u001B[38;5;124;43m'\u001B[39;49m\u001B[38;5;124;43maggregator.settings.log_metric_callback\u001B[39;49m\u001B[38;5;124;43m'\u001B[39;49m\u001B[43m:\u001B[49m\u001B[43m \u001B[49m\u001B[43mwrite_metric\u001B[49m\u001B[43m,\u001B[49m\n\u001B[1;32m      6\u001B[0m \u001B[43m}\u001B[49m\u001B[43m)\u001B[49m\n",
      "File \u001B[0;32m~/Desktop/data_station/fl_test/venv/lib/python3.8/site-packages/openfl/native/native.py:284\u001B[0m, in \u001B[0;36mrun_experiment\u001B[0;34m(collaborator_dict, override_config)\u001B[0m\n\u001B[1;32m    282\u001B[0m     \u001B[38;5;28;01mfor\u001B[39;00m col \u001B[38;5;129;01min\u001B[39;00m plan\u001B[38;5;241m.\u001B[39mauthorized_cols:\n\u001B[1;32m    283\u001B[0m         collaborator \u001B[38;5;241m=\u001B[39m collaborators[col]\n\u001B[0;32m--> 284\u001B[0m         \u001B[43mcollaborator\u001B[49m\u001B[38;5;241;43m.\u001B[39;49m\u001B[43mrun_simulation\u001B[49m\u001B[43m(\u001B[49m\u001B[43m)\u001B[49m\n\u001B[1;32m    286\u001B[0m \u001B[38;5;66;03m# Set the weights for the final model\u001B[39;00m\n\u001B[1;32m    287\u001B[0m model\u001B[38;5;241m.\u001B[39mrebuild_model(\n\u001B[1;32m    288\u001B[0m     rounds_to_train \u001B[38;5;241m-\u001B[39m \u001B[38;5;241m1\u001B[39m, aggregator\u001B[38;5;241m.\u001B[39mlast_tensor_dict, validation\u001B[38;5;241m=\u001B[39m\u001B[38;5;28;01mTrue\u001B[39;00m)\n",
      "File \u001B[0;32m~/Desktop/data_station/fl_test/venv/lib/python3.8/site-packages/openfl/component/collaborator/collaborator.py:170\u001B[0m, in \u001B[0;36mCollaborator.run_simulation\u001B[0;34m(self)\u001B[0m\n\u001B[1;32m    168\u001B[0m \u001B[38;5;28mself\u001B[39m\u001B[38;5;241m.\u001B[39mlogger\u001B[38;5;241m.\u001B[39minfo(\u001B[38;5;124mf\u001B[39m\u001B[38;5;124m'\u001B[39m\u001B[38;5;124mReceived the following tasks: \u001B[39m\u001B[38;5;132;01m{\u001B[39;00mtasks\u001B[38;5;132;01m}\u001B[39;00m\u001B[38;5;124m'\u001B[39m)\n\u001B[1;32m    169\u001B[0m \u001B[38;5;28;01mfor\u001B[39;00m task \u001B[38;5;129;01min\u001B[39;00m tasks:\n\u001B[0;32m--> 170\u001B[0m     \u001B[38;5;28;43mself\u001B[39;49m\u001B[38;5;241;43m.\u001B[39;49m\u001B[43mdo_task\u001B[49m\u001B[43m(\u001B[49m\u001B[43mtask\u001B[49m\u001B[43m,\u001B[49m\u001B[43m \u001B[49m\u001B[43mround_number\u001B[49m\u001B[43m)\u001B[49m\n\u001B[1;32m    171\u001B[0m \u001B[38;5;28mself\u001B[39m\u001B[38;5;241m.\u001B[39mlogger\u001B[38;5;241m.\u001B[39minfo(\u001B[38;5;124mf\u001B[39m\u001B[38;5;124m'\u001B[39m\u001B[38;5;124mAll tasks completed on \u001B[39m\u001B[38;5;132;01m{\u001B[39;00m\u001B[38;5;28mself\u001B[39m\u001B[38;5;241m.\u001B[39mcollaborator_name\u001B[38;5;132;01m}\u001B[39;00m\u001B[38;5;124m \u001B[39m\u001B[38;5;124m'\u001B[39m\n\u001B[1;32m    172\u001B[0m                  \u001B[38;5;124mf\u001B[39m\u001B[38;5;124m'\u001B[39m\u001B[38;5;124mfor round \u001B[39m\u001B[38;5;132;01m{\u001B[39;00mround_number\u001B[38;5;132;01m}\u001B[39;00m\u001B[38;5;124m...\u001B[39m\u001B[38;5;124m'\u001B[39m)\n\u001B[1;32m    173\u001B[0m \u001B[38;5;28;01mbreak\u001B[39;00m\n",
      "File \u001B[0;32m~/Desktop/data_station/fl_test/venv/lib/python3.8/site-packages/openfl/component/collaborator/collaborator.py:255\u001B[0m, in \u001B[0;36mCollaborator.do_task\u001B[0;34m(self, task, round_number)\u001B[0m\n\u001B[1;32m    252\u001B[0m     func \u001B[38;5;241m=\u001B[39m \u001B[38;5;28mgetattr\u001B[39m(\u001B[38;5;28mself\u001B[39m\u001B[38;5;241m.\u001B[39mtask_runner, func_name)\n\u001B[1;32m    253\u001B[0m     \u001B[38;5;28mself\u001B[39m\u001B[38;5;241m.\u001B[39mlogger\u001B[38;5;241m.\u001B[39minfo(\u001B[38;5;124m'\u001B[39m\u001B[38;5;124mUsing TaskRunner subclassing API\u001B[39m\u001B[38;5;124m'\u001B[39m)\n\u001B[0;32m--> 255\u001B[0m global_output_tensor_dict, local_output_tensor_dict \u001B[38;5;241m=\u001B[39m \u001B[43mfunc\u001B[49m\u001B[43m(\u001B[49m\n\u001B[1;32m    256\u001B[0m \u001B[43m    \u001B[49m\u001B[43mcol_name\u001B[49m\u001B[38;5;241;43m=\u001B[39;49m\u001B[38;5;28;43mself\u001B[39;49m\u001B[38;5;241;43m.\u001B[39;49m\u001B[43mcollaborator_name\u001B[49m\u001B[43m,\u001B[49m\n\u001B[1;32m    257\u001B[0m \u001B[43m    \u001B[49m\u001B[43mround_num\u001B[49m\u001B[38;5;241;43m=\u001B[39;49m\u001B[43mround_number\u001B[49m\u001B[43m,\u001B[49m\n\u001B[1;32m    258\u001B[0m \u001B[43m    \u001B[49m\u001B[43minput_tensor_dict\u001B[49m\u001B[38;5;241;43m=\u001B[39;49m\u001B[43minput_tensor_dict\u001B[49m\u001B[43m,\u001B[49m\n\u001B[1;32m    259\u001B[0m \u001B[43m    \u001B[49m\u001B[38;5;241;43m*\u001B[39;49m\u001B[38;5;241;43m*\u001B[39;49m\u001B[43mkwargs\u001B[49m\u001B[43m)\u001B[49m\n\u001B[1;32m    261\u001B[0m \u001B[38;5;66;03m# Save global and local output_tensor_dicts to TensorDB\u001B[39;00m\n\u001B[1;32m    262\u001B[0m \u001B[38;5;28mself\u001B[39m\u001B[38;5;241m.\u001B[39mtensor_db\u001B[38;5;241m.\u001B[39mcache_tensor(global_output_tensor_dict)\n",
      "File \u001B[0;32m~/Desktop/data_station/fl_test/venv/lib/python3.8/site-packages/openfl/federated/task/runner_pt.py:111\u001B[0m, in \u001B[0;36mPyTorchTaskRunner.validate\u001B[0;34m(self, col_name, round_num, input_tensor_dict, use_tqdm, **kwargs)\u001B[0m\n\u001B[1;32m    109\u001B[0m         \u001B[38;5;66;03m# get the index of the max log-probability\u001B[39;00m\n\u001B[1;32m    110\u001B[0m         pred \u001B[38;5;241m=\u001B[39m output\u001B[38;5;241m.\u001B[39margmax(dim\u001B[38;5;241m=\u001B[39m\u001B[38;5;241m1\u001B[39m, keepdim\u001B[38;5;241m=\u001B[39m\u001B[38;5;28;01mTrue\u001B[39;00m)\n\u001B[0;32m--> 111\u001B[0m         target_categorical \u001B[38;5;241m=\u001B[39m \u001B[43mtarget\u001B[49m\u001B[38;5;241;43m.\u001B[39;49m\u001B[43margmax\u001B[49m\u001B[43m(\u001B[49m\u001B[43mdim\u001B[49m\u001B[38;5;241;43m=\u001B[39;49m\u001B[38;5;241;43m1\u001B[39;49m\u001B[43m,\u001B[49m\u001B[43m \u001B[49m\u001B[43mkeepdim\u001B[49m\u001B[38;5;241;43m=\u001B[39;49m\u001B[38;5;28;43;01mTrue\u001B[39;49;00m\u001B[43m)\u001B[49m\n\u001B[1;32m    112\u001B[0m         val_score \u001B[38;5;241m+\u001B[39m\u001B[38;5;241m=\u001B[39m pred\u001B[38;5;241m.\u001B[39meq(target_categorical)\u001B[38;5;241m.\u001B[39msum()\u001B[38;5;241m.\u001B[39mcpu()\u001B[38;5;241m.\u001B[39mnumpy()\n\u001B[1;32m    114\u001B[0m origin \u001B[38;5;241m=\u001B[39m col_name\n",
      "\u001B[0;31mIndexError\u001B[0m: Dimension out of range (expected to be in range of [-1, 0], but got 1)"
     ]
    }
   ],
   "source": [
    "# Run experiment, return trained FederatedModel\n",
    "\n",
    "final_fl_model = fx.run_experiment(collaborators, override_config={\n",
    "    'aggregator.settings.rounds_to_train': 200000,\n",
    "    'aggregator.settings.log_metric_callback': write_metric,\n",
    "})"
   ]
  },
  {
   "cell_type": "code",
   "execution_count": null,
   "metadata": {
    "pycharm": {
     "name": "#%%\n"
    }
   },
   "outputs": [],
   "source": [
    "#Save final model\n",
    "final_fl_model.save_native('final_income_model')"
   ]
  },
  {
   "cell_type": "code",
   "execution_count": null,
   "metadata": {
    "pycharm": {
     "name": "#%%\n"
    }
   },
   "outputs": [],
   "source": [
    "log.close()"
   ]
  }
 ],
 "metadata": {
  "kernelspec": {
   "display_name": "Python 3 (ipykernel)",
   "language": "python",
   "name": "python3"
  },
  "language_info": {
   "codemirror_mode": {
    "name": "ipython",
    "version": 3
   },
   "file_extension": ".py",
   "mimetype": "text/x-python",
   "name": "python",
   "nbconvert_exporter": "python",
   "pygments_lexer": "ipython3",
   "version": "3.8.9"
  }
 },
 "nbformat": 4,
 "nbformat_minor": 4
}